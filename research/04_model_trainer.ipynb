{
 "cells": [
  {
   "cell_type": "code",
   "execution_count": 2,
   "metadata": {},
   "outputs": [
    {
     "data": {
      "text/plain": [
       "'c:\\\\Users\\\\anfe1\\\\OneDrive\\\\Escritorio\\\\carpetaANFE\\\\AI_ML_Projects\\\\Text-Summarization'"
      ]
     },
     "execution_count": 2,
     "metadata": {},
     "output_type": "execute_result"
    }
   ],
   "source": [
    "import os\n",
    "\n",
    "os.chdir(\"../\")\n",
    "%pwd"
   ]
  },
  {
   "cell_type": "code",
   "execution_count": 3,
   "metadata": {},
   "outputs": [],
   "source": [
    "from dataclasses import dataclass\n",
    "from pathlib import Path\n",
    "\n",
    "@dataclass(frozen=True)\n",
    "class ModelTrainerConfig:\n",
    "    root_dir: Path\n",
    "    data_path: Path\n",
    "    model_chkpt: Path\n",
    "    num_train_epochs: int\n",
    "    warmup_steps: int\n",
    "    per_device_train_batch_size: int\n",
    "    per_device_eval_batch_size: int\n",
    "    weight_decay: float\n",
    "    logging_steps: int\n",
    "    evaluation_strategy: str\n",
    "    eval_steps: int\n",
    "    save_steps: float\n",
    "    gradient_accumulation_steps: int"
   ]
  },
  {
   "cell_type": "code",
   "execution_count": 4,
   "metadata": {},
   "outputs": [],
   "source": [
    "from textSummarization.constants import *\n",
    "from textSummarization.utils.common import read_yaml, create_directories\n",
    "\n",
    "class ConfigurationManager:\n",
    "    def __init__(self) -> None:\n",
    "        config_file_path = CONFIG_FILE_PATH\n",
    "        params_file_path = PARAMS_FILE_PATH\n",
    "\n",
    "        self.config = read_yaml(config_file_path)\n",
    "        self.params = read_yaml(params_file_path)\n",
    "\n",
    "        create_directories([self.config.artifacts_root])\n",
    "    \n",
    "    def get_model_trainer_config(self) -> ModelTrainerConfig:\n",
    "        config = self.config.model_trainer\n",
    "        params = self.params.training_arguments\n",
    "\n",
    "        create_directories([config.root_dir])\n",
    "\n",
    "        model_trainer_config = ModelTrainerConfig(\n",
    "            root_dir= config.root_dir,\n",
    "            data_path= config.data_path,\n",
    "            model_chkpt= config.model_chkpt,\n",
    "            num_train_epochs= params.num_train_epochs,\n",
    "            warmup_steps= params.warmup_steps,\n",
    "            per_device_train_batch_size= params.per_device_train_batch_size,\n",
    "            per_device_eval_batch_size= params.per_device_eval_batch_size,\n",
    "            weight_decay= params.weight_decay,\n",
    "            logging_steps= params.logging_steps,\n",
    "            evaluation_strategy= params.evaluation_strategy,\n",
    "            eval_steps= params.eval_steps,\n",
    "            save_steps= params.save_steps,\n",
    "            gradient_accumulation_steps= params.gradient_accumulation_steps\n",
    "        )\n",
    "\n",
    "        return model_trainer_config"
   ]
  },
  {
   "cell_type": "code",
   "execution_count": 7,
   "metadata": {},
   "outputs": [],
   "source": [
    "import torch\n",
    "\n",
    "from transformers import (Trainer, TrainingArguments,\n",
    "                          DataCollatorForSeq2Seq,\n",
    "                          AutoModelForSeq2SeqLM, AutoTokenizer)\n",
    "from datasets import load_from_disk\n",
    "\n",
    "from textSummarization.logging import logger\n",
    "\n",
    "class ModelTrainer:\n",
    "    def __init__(self, config:ModelTrainerConfig) -> None:\n",
    "        self.config = config\n",
    "    \n",
    "    def train(self):\n",
    "        device = \"cuda\" if torch.cuda.is_available() else \"cpu\"\n",
    "        logger.info(f\"Device using: {device}\")\n",
    "        tokenizer = AutoTokenizer.from_pretrained(self.config.model_chkpt)\n",
    "        model = AutoModelForSeq2SeqLM.from_pretrained(self.config.model_chkpt).to(device)\n",
    "        data_collator = DataCollatorForSeq2Seq(tokenizer=tokenizer, model=model)\n",
    "\n",
    "        #Loading Data\n",
    "        dataset = load_from_disk(self.config.data_path)\n",
    "\n",
    "        trainer_args = TrainingArguments(\n",
    "            output_dir= self.config.root_dir,\n",
    "            num_train_epochs= self.config.num_train_epochs,\n",
    "            warmup_steps= self.config.warmup_steps,\n",
    "            per_device_train_batch_size= self.config.per_device_train_batch_size,\n",
    "            per_device_eval_batch_size= self.config.per_device_eval_batch_size,\n",
    "            weight_decay= self.config.weight_decay,\n",
    "            logging_steps= self.config.logging_steps,\n",
    "            evaluation_strategy= self.config.evaluation_strategy,\n",
    "            eval_steps= self.config.eval_steps,\n",
    "            save_steps= self.config.save_steps,\n",
    "            gradient_accumulation_steps= self.config.gradient_accumulation_steps\n",
    "        )\n",
    "\n",
    "        trainer = Trainer(\n",
    "            model= model,\n",
    "            args= trainer_args,\n",
    "            tokenizer= tokenizer,\n",
    "            data_collator= data_collator,\n",
    "            train_dataset= dataset[\"test\"],\n",
    "            eval_dataset= dataset[\"validation\"]\n",
    "        )\n",
    "        \n",
    "        trainer.train()\n",
    "\n",
    "        #Save Model\n",
    "        # trainer.save_model(save_directory=os.path.join(self.config.root_dir,\"pegasus_samsum_model\"))\n",
    "        model.save_pretrained(save_directory=os.path.join(self.config.root_dir,\"pegasus_samsum_model\"))\n",
    "\n",
    "        #Save Tokenizer\n",
    "        tokenizer.save_pretrained(save_directory=os.path.join(self.config.root_dir,\"tokenizer\"))\n"
   ]
  },
  {
   "cell_type": "code",
   "execution_count": null,
   "metadata": {},
   "outputs": [],
   "source": [
    "try:\n",
    "    config = ConfigurationManager()\n",
    "    model_trainer_config = config.get_model_trainer_config()\n",
    "    model_trainer = ModelTrainer(config=model_trainer_config)\n",
    "    model_trainer.train()\n",
    "except Exception as e:\n",
    "    raise e"
   ]
  }
 ],
 "metadata": {
  "kernelspec": {
   "display_name": "venv",
   "language": "python",
   "name": "python3"
  },
  "language_info": {
   "codemirror_mode": {
    "name": "ipython",
    "version": 3
   },
   "file_extension": ".py",
   "mimetype": "text/x-python",
   "name": "python",
   "nbconvert_exporter": "python",
   "pygments_lexer": "ipython3",
   "version": "3.12.1"
  }
 },
 "nbformat": 4,
 "nbformat_minor": 2
}
